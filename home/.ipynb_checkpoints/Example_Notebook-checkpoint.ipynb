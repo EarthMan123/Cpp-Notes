{
 "cells": [
  {
   "cell_type": "markdown",
   "metadata": {
    "graffitiCellId": "id_dwzadwu"
   },
   "source": [
    "## Experiment with Jupyter Notebooks\n",
    "Press the `Run Code` button below to run the code in the terminal. When the terminal commands are executed you'll see the code within the cell has been saved to `./code/main.cpp` and is then compiled and executed. \n",
    "\n",
    "Try writing and running some code to see how it works!"
   ]
  },
  {
   "cell_type": "code",
   "execution_count": null,
   "metadata": {
    "graffitiCellId": "id_u5bdxi7",
    "graffitiConfig": {
     "executeCellViaGraffiti": "hsznf5f_v797hj5"
    }
   },
   "outputs": [],
   "source": [
    "// function example\n",
    "#include <iostream>\n",
    "// Write a simple function to add two integers\n",
    "int Addition (int a, int b){\n",
    "  int result;\n",
    "  result = a + b;\n",
    "  return result;\n",
    "}\n",
    "\n",
    "// Define a main() function to test your addition() function\n",
    "int main ()\n",
    "{\n",
    "  int z;\n",
    "  int a = 2;\n",
    "  int b = 2;\n",
    "  z = Addition (a, b);\n",
    "  std::cout << a << \" + \" << b << \" = \" << z << \" Yay!\" << \"\\n\";\n",
    "}"
   ]
  },
  {
   "cell_type": "markdown",
   "metadata": {
    "graffitiCellId": "id_hsznf5f"
   },
   "source": [
    "<span class=\"graffiti-highlight graffiti-id_hsznf5f-id_v797hj5\"><i></i><button>Run Code</button></span>"
   ]
  },
  {
   "cell_type": "markdown",
   "metadata": {
    "graffitiCellId": "id_rjsor21",
    "graffitiConfig": {
     "rows": 6,
     "terminalId": "id_rjsor21",
     "type": "terminal"
    }
   },
   "source": [
    "<i>Loading terminal (id_rjsor21), please wait...</i>"
   ]
  }
 ],
 "metadata": {
  "graffiti": {
   "firstAuthorId": "8978490740",
   "id": "id_auol3m8",
   "language": "EN"
  },
  "kernelspec": {
   "display_name": "C++17",
   "language": "C++17",
   "name": "xeus-cling-cpp17"
  },
  "language_info": {
   "codemirror_mode": "text/x-c++src",
   "file_extension": ".cpp",
   "mimetype": "text/x-c++src",
   "name": "c++",
   "version": "-std=c++17"
  }
 },
 "nbformat": 4,
 "nbformat_minor": 2
}
