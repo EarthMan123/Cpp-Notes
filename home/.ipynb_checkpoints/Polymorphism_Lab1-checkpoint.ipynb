{
 "cells": [
  {
   "cell_type": "code",
   "execution_count": null,
   "metadata": {
    "graffitiCellId": "id_n4kd2q6",
    "graffitiConfig": {
     "executeCellViaGraffiti": "i3jaz0a_4gzqzu3"
    }
   },
   "outputs": [],
   "source": [
    "// include iostream for printing\n",
    "\n",
    "// Define pi constant\n",
    "\n",
    "// Define Shape base class\n",
    "// strictly base class because its interface is pure virtual methods\n",
    "\n",
    "    // Define public empty constructor\n",
    "    // Define public virtual Area() and PerimeterLength()\n",
    "    \n",
    "        //const = 0 specifier in interface is telling the compiler that this method must be implemented in one of the derived classes\n",
    "        // For this class it is just part of the interface\n",
    "\n",
    "// Define Rectangle to inherit publicly from Shape\n",
    "\n",
    "    // Declare private attributes width and height\n",
    "    \n",
    "    // Declare public constructor\n",
    "    // Override virtual base class functions\n",
    "\n",
    "        // Overriding methods\n",
    "\n",
    "// Define Circle to inherit publicly from Shape\n",
    "\n",
    "    // Declare private attributes width and height\n",
    "    \n",
    "    // Declare public constructor\n",
    "    // Override virtual base class functions\n",
    "\n",
    "\n",
    "// Test in main()\n"
   ]
  },
  {
   "cell_type": "markdown",
   "metadata": {
    "graffitiCellId": "id_i3jaz0a"
   },
   "source": [
    "<span class=\"graffiti-highlight graffiti-id_i3jaz0a-id_4gzqzu3\"><i></i><button>Compile & Execute</button></span>&nbsp;\n",
    "<span class=\"graffiti-highlight graffiti-id_ktuns04-id_tbe7zwp\"><i></i><button>Show Solution</button></span>"
   ]
  },
  {
   "cell_type": "markdown",
   "metadata": {
    "graffitiCellId": "id_axz5p8d",
    "graffitiConfig": {
     "rows": 12,
     "terminalId": "id_p3sc0xd",
     "type": "terminal"
    }
   },
   "source": [
    "<i>Loading terminal (id_axz5p8d), please wait...</i>"
   ]
  }
 ],
 "metadata": {
  "graffiti": {
   "firstAuthorId": "8978490740",
   "id": "id_itcdm0e",
   "language": "EN"
  },
  "kernelspec": {
   "display_name": "C++17",
   "language": "C++17",
   "name": "xeus-cling-cpp17"
  },
  "language_info": {
   "codemirror_mode": "text/x-c++src",
   "file_extension": ".cpp",
   "mimetype": "text/x-c++src",
   "name": "c++",
   "version": "-std=c++17"
  }
 },
 "nbformat": 4,
 "nbformat_minor": 2
}
