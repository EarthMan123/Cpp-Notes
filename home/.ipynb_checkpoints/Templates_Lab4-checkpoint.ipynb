{
 "cells": [
  {
   "cell_type": "code",
   "execution_count": null,
   "metadata": {
    "graffitiCellId": "id_xtmwkp3",
    "graffitiConfig": {
     "executeCellViaGraffiti": "7702fa4_hxf92bd"
    }
   },
   "outputs": [],
   "source": [
    "#include <iostream>\n",
    "#include <vector>\n",
    "\n",
    "// Helper generic function with a generic vector<T> parameter\n",
    "template <typename T>\n",
    "    void PrintVector(std::vector<T> v) {\n",
    "        for (auto i : v) {\n",
    "            std::cout << i << \" \";\n",
    "        }\n",
    "    std::cout << \"\\n\";\n",
    "    }\n",
    "\n",
    "// Multiple use of type parameters for unique types.\n",
    "// T1 supports basic operation but T2 can be used as indexed container and object which // contains method size()\n",
    "template < typename T1,typename T2>\n",
    "    void MultiplyByNumber(T1 num, T2& container) {\n",
    "        for (int i = 0; i < container.size(); i++) {\n",
    "            container[i] *= num;\n",
    "        }\n",
    "    }\n",
    "//main function\n",
    "int main()\n",
    "{\n",
    "    std::vector<int> container = { 2,3,17,23,14,18,21 };\n",
    "    PrintVector(container);\n",
    "    MultiplyByNumber(3, container);\n",
    "    PrintVector(container);\n",
    "// Converted to Z = 90 and multiplied. Operator * is reason for total deduction\n",
    "// into int\n",
    "    MultiplyByNumber('Z', container);\n",
    "    PrintVector(container);\n",
    "\n",
    "}\n"
   ]
  },
  {
   "cell_type": "markdown",
   "metadata": {
    "graffitiCellId": "id_7702fa4"
   },
   "source": [
    "<span class=\"graffiti-highlight graffiti-id_7702fa4-id_hxf92bd\"><i></i><button>Compile & Execute</button></span>"
   ]
  },
  {
   "cell_type": "markdown",
   "metadata": {
    "graffitiCellId": "id_h53l6ob",
    "graffitiConfig": {
     "rows": 10,
     "terminalId": "id_4lnp3yi",
     "type": "terminal"
    }
   },
   "source": [
    "<i>Loading terminal (id_h53l6ob), please wait...</i>"
   ]
  }
 ],
 "metadata": {
  "graffiti": {
   "firstAuthorId": "8978490740",
   "id": "id_itcdm0e",
   "language": "EN"
  },
  "kernelspec": {
   "display_name": "C++17",
   "language": "C++17",
   "name": "xeus-cling-cpp17"
  },
  "language_info": {
   "codemirror_mode": "text/x-c++src",
   "file_extension": ".cpp",
   "mimetype": "text/x-c++src",
   "name": "c++",
   "version": "-std=c++17"
  }
 },
 "nbformat": 4,
 "nbformat_minor": 2
}
