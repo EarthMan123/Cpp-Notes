{
 "cells": [
  {
   "cell_type": "markdown",
   "metadata": {
    "graffitiCellId": "id_dwzadwu"
   },
   "source": [
    "## Experiment with structs\n",
    "Press the `Run Code` button below to run the code in the terminal. When the terminal commands are executed you'll see the code within the cell has been saved to `./code/main.cpp` and is then compiled and executed. \n",
    "\n",
    "Try putting in nonsensical dates and see that it will print whatever you give it!"
   ]
  },
  {
   "cell_type": "code",
   "execution_count": null,
   "metadata": {
    "graffitiCellId": "id_u3j4xzj",
    "graffitiConfig": {
     "executeCellViaGraffiti": "ch4tw90_a210nhu"
    }
   },
   "outputs": [],
   "source": [
    "// include iostream for printing\n",
    "#include <iostream>\n",
    "// Define a simple structure\n",
    "struct Date {\n",
    "  int day, month, year;\n",
    "};\n",
    "\n",
    "// Define a main function to instantiate and test \n",
    "int main(){\n",
    "    Date date;\n",
    "    date.day = 1;\n",
    "    date.month = 10;\n",
    "    date.year = 2003;\n",
    "    \n",
    "    // Print the data in the structure\n",
    "    std::cout << date.day << \"/\" << date.month << \"/\" << date.year << \"\\n\";\n",
    "}"
   ]
  },
  {
   "cell_type": "markdown",
   "metadata": {
    "graffitiCellId": "id_ch4tw90"
   },
   "source": [
    "<span class=\"graffiti-highlight graffiti-id_ch4tw90-id_a210nhu\"><i></i><button>Run Code</button></span>"
   ]
  },
  {
   "cell_type": "markdown",
   "metadata": {
    "graffitiCellId": "id_7r36sx6",
    "graffitiConfig": {
     "rows": 6,
     "terminalId": "id_7r36sx6",
     "type": "terminal"
    }
   },
   "source": [
    "<i>Loading terminal (id_7r36sx6), please wait...</i>"
   ]
  },
  {
   "cell_type": "code",
   "execution_count": null,
   "metadata": {
    "graffitiCellId": "id_hyhaxni",
    "graffitiConfig": {
     "executeCellViaGraffiti": "c09ybu7_l2z7i6p"
    }
   },
   "outputs": [],
   "source": [
    "// include iostream for printing\n",
    "#include <iostream>\n",
    "// Define a simple structure\n",
    "struct Date {\n",
    "  int day, month, year;\n",
    "};\n",
    "\n",
    "// Define a main function to instantiate and test \n",
    "int main(){\n",
    "    Date date;\n",
    "    date.day = 1;\n",
    "    date.month = 10;\n",
    "    date.year = 2003;\n",
    "    \n",
    "    // Print the data in the structure\n",
    "    std::cout << date.day << \"/\" << date.month << \"/\" << date.year << \"\\n\";\n",
    "}"
   ]
  },
  {
   "cell_type": "markdown",
   "metadata": {
    "graffitiCellId": "id_c09ybu7"
   },
   "source": [
    "<span class=\"graffiti-highlight graffiti-id_c09ybu7-id_l2z7i6p\"><i></i><button>Run Code</button></span>"
   ]
  },
  {
   "cell_type": "markdown",
   "metadata": {
    "graffitiCellId": "id_afe3q9h",
    "graffitiConfig": {
     "rows": 6,
     "terminalId": "id_afe3q9h",
     "type": "terminal"
    }
   },
   "source": [
    "<i>Loading terminal (id_afe3q9h), please wait...</i>"
   ]
  }
 ],
 "metadata": {
  "graffiti": {
   "firstAuthorId": "8978490740",
   "id": "id_auol3m8",
   "language": "EN"
  },
  "kernelspec": {
   "display_name": "C++17",
   "language": "C++17",
   "name": "xeus-cling-cpp17"
  },
  "language_info": {
   "codemirror_mode": "text/x-c++src",
   "file_extension": ".cpp",
   "mimetype": "text/x-c++src",
   "name": "c++",
   "version": "-std=c++17"
  }
 },
 "nbformat": 4,
 "nbformat_minor": 2
}
