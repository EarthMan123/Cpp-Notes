{
 "cells": [
  {
   "cell_type": "markdown",
   "metadata": {},
   "source": [
    "# Smart Pointers"
   ]
  },
  {
   "cell_type": "markdown",
   "metadata": {},
   "source": [
    "## 1. Resource Acquisition is Initialization \n",
    "\n",
    "![1 - ND213 C03 L05 01.1 Resource Acquisition Is Initialization (RAII) HS.mp4](attachment:1 - ND213 C03 L05 01.1 Resource Acquisition Is Initialization (RAII) HS.mp4)\n",
    "\n",
    "> Refer to the workspace\n",
    "\n",
    "### Outro\n",
    "\n",
    "![2 - ND213 C03 L05 01.1 Resource Acquisition Is Initialization (RAII) HS.mp4](attachment:2 - ND213 C03 L05 01.1 Resource Acquisition Is Initialization (RAII) HS.mp4)\n"
   ]
  },
  {
   "cell_type": "markdown",
   "metadata": {},
   "source": [
    "## 2. Bjarne on RAII\n",
    "\n",
    "![3 - ND213 C03 RAII What Is RAII.mp4](attachment:3 - ND213 C03 RAII What Is RAII.mp4)"
   ]
  },
  {
   "cell_type": "markdown",
   "metadata": {},
   "source": [
    "## 3. Smart Pointers\n",
    "\n",
    "![4 - ND213 C03 L05 02.1 Smart Pointers HS.mp4](attachment:4 - ND213 C03 L05 02.1 Smart Pointers HS.mp4)\n",
    "\n",
    "> Refer to the workspace\n",
    "\n",
    "### Outro\n",
    "\n",
    "![5 - ND213 C03 L05 02.1 Smart Pointers HS.mp4](attachment:5 - ND213 C03 L05 02.1 Smart Pointers HS.mp4)\n"
   ]
  },
  {
   "cell_type": "markdown",
   "metadata": {},
   "source": [
    "## 4. Bjarne on Smart Pointers\n",
    "\n",
    "![6 - ND213 C03 Smart Pointers What Are Pointers- 1.mp4](attachment:6 - ND213 C03 Smart Pointers What Are Pointers- 1.mp4)"
   ]
  },
  {
   "cell_type": "markdown",
   "metadata": {},
   "source": [
    "## 5. Transferring Ownership\n",
    "\n",
    "![7 - ND213 C03 L05 03.1 Transferring Ownership HS.mp4](attachment:7 - ND213 C03 L05 03.1 Transferring Ownership HS.mp4)\n",
    "\n",
    "In the previous section, we have taken a look at the three smart pointer types in C++. In addition to smart pointers, you are now also familiar with move semantics, which is of particular importance in this section. In the following, we will discuss how to properly pass and return smart pointers to functions and vice-versa. In modern C++, there are various ways of doing this and in many cases, the method of choice has an impact on both performance and code robustness. The basis of this section are the C++ core guidelines on smart pointers, some of which we will be examining in the following.\n",
    "\n",
    "> Refer to the workspace\n",
    "\n",
    "### Best-Practices for Passing Smart Pointers\n",
    "This sections contains a condensed summary of when (and when not) to use smart pointers and how to properly pass them between functions. This section is intended as a guide for your future use of this important feature in modern C++ and will hopefully encourage you not to ditch raw pointers altogether but instead to think about where your code could benefit from smart pointers - and when it would most probably not.\n",
    "\n",
    "The following list contains all the variations (omitting `const`) of passing an object to a function:\n",
    "\n",
    "### The Preferred Way\n",
    "The preferred way of to pass object parameters is by using a) or b) :\n",
    "\n",
    "```c++\n",
    "void f( object* );\n",
    "void f( object& );\n",
    "```\n",
    "\n",
    "In doing so, we do not have to worry about the lifetime policy a caller might have implemented. Using a specific smart pointer in a case where we only want to observe an object or manipulate a member might be overly restrictive.\n",
    "\n",
    "With the non-owning raw pointer `*` or the reference `&` we can observe an object from which we can assume that its lifetime will exceed the lifetime of the function parameter. In concurrency however, this might not be the case, but for linear code we can safely assume this.\n",
    "\n",
    "To decide wether a * or & is more appropriate, you should think about wether you need to express that there is no object. This can only be done with pointers by passing e.g. `nullptr`. In most other cases, you should use a reference instead.\n",
    "\n",
    "### The Object Sink\n",
    "The preferred way of passing an object to a function so that the function takes ownership of the object (or „consumes“ it) is by using method c) from the above list:\n",
    "\n",
    "`void f( unique_ptr<object> );`\n",
    "\n",
    "In this case, we are passing a unique pointer by value from caller to function, which then takes ownership of the the pointer and the underlying object. This is only possible using move semantics as there may be only a single reference to the object managed by the unique pointer.\n",
    "\n",
    "After the object has been passed in this way, the caller will have an invalid unique pointer and the function to which the object now belongs may destroy it or move it somewhere else.\n",
    "\n",
    "Using `const` with this particular call does not make sense as it models an ownership transfer so the source will be definitely modified.\n",
    "\n",
    "### In And Out Again 1\n",
    "In some cases, we want to modify a unique pointer (not necessarily the underlying object) and re-use it in the context of the caller. In this case, method d) from the above list might be most suitable:\n",
    "\n",
    "`void f( unique_ptr<object>& );`\n",
    "\n",
    "Using this call structure, the function states that it might modify the smart pointer, e.g. by redirecting it to another object. It is not recommended to use it for accepting an object only because we should avoid restricting ourselves unnecessarily to a particular object lifetime strategy on the caller side.\n",
    "\n",
    "Using `const` with this call structure is not recommendable as we would not be able to modify the `unique_ptr` in this case. In case you want to modify the underlying object, use method a) instead.\n",
    "\n",
    "### Sharing Object Ownership\n",
    "In the last examples, we have looked at strategies involving unique ownership. In this example, we want to express that a function will store and share ownership of an object on the heap. This can be achieved by using method e) from the list above:\n",
    "\n",
    "`void f( shared_ptr<object> )`\n",
    "\n",
    "In this example, we are making a copy of the shared pointer passed to the function. In doing so, the internal reference counter within all shared pointers referring to the same heap object is incremented by one.\n",
    "\n",
    "This strategy can be recommended for cases where the function needs to retain a copy of the shared_ptr and thus share ownership of the object. This is of interest when we need access to smart pointer functions such as the reference count or we must make sure that the object to which the shared pointer refers is not prematurely deallocated (which might happen in concurrent programming).\n",
    "\n",
    "If the local scope of the function is not the final destination, a shared pointer can also be moved, which does not increase the reference count and is thus more effective.\n",
    "\n",
    "A disadvantage of using a shared_ptr as a function argument is that the function will be limited to using only objects that are managed by shared pointers - which limits flexibility and reusability of the code.\n",
    "\n",
    "### In And Out Again 2\n",
    "As with unique pointers, the need to modify shared pointers and re-use them in the context of the caller might arise. In this case, method f) might be the right choice:\n",
    "\n",
    "`void f( shared_ptr<object>& );`\n",
    "\n",
    "This particular way of passing a shared pointer expresses that the function f will modify the pointer itself. As with method e), we will be limiting the usability of the function to cases where the object is managed by a shared_ptr and nothing else.\n",
    "\n",
    "### Last Words\n",
    "The topic of smart pointers is a complex one. In this course, we have covered many basics and some of the more advanced concepts. However, for some cases there are more aspects to consider and features to use when integrating smart pointers into your code. The full set of smart pointer rules in the C++ guidelines is a good start to dig deeper into one of the most powerful features of modern C++.\n",
    "\n",
    "### Outro\n",
    "![8 - ND213 C03 L05 03.1 Transferring Ownership HS.mp4](attachment:8 - ND213 C03 L05 03.1 Transferring Ownership HS.mp4)\n"
   ]
  },
  {
   "cell_type": "markdown",
   "metadata": {},
   "source": [
    "## 6. Bjarne on Importance of Scope\n",
    "\n",
    "![9 - ND213 C03 Destructors Why Is Scope Important To C++- 1.mp4](attachment:9 - ND213 C03 Destructors Why Is Scope Important To C++- 1.mp4)\n"
   ]
  },
  {
   "cell_type": "code",
   "execution_count": null,
   "metadata": {},
   "outputs": [],
   "source": []
  }
 ],
 "metadata": {
  "kernelspec": {
   "display_name": "Python 3",
   "language": "python",
   "name": "python3"
  },
  "language_info": {
   "codemirror_mode": {
    "name": "ipython",
    "version": 3
   },
   "file_extension": ".py",
   "mimetype": "text/x-python",
   "name": "python",
   "nbconvert_exporter": "python",
   "pygments_lexer": "ipython3",
   "version": "3.8.3"
  }
 },
 "nbformat": 4,
 "nbformat_minor": 4
}
