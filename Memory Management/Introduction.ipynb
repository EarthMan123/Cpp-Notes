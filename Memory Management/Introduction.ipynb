{
 "cells": [
  {
   "cell_type": "markdown",
   "metadata": {},
   "source": [
    "# Introduction\n",
    "\n",
    "## Course Overview\n",
    "\n",
    "### 1. Overview of Memory Types\n",
    "    1. Memory Addresses and Hexadecimal Numbers\n",
    "    2. Using the Debugger to Analyze Memory\n",
    "    3. Types of Computer Memory\n",
    "    4. Cache Memory\n",
    "    5. Virtual Memory\n",
    "### 2. Variables and Memory\n",
    "    1. The Process Memory Model\n",
    "    2. Automatic Memory Allocation (The Stack)\n",
    "    3. Call-By-Value vs. Call-By-Reference\n",
    "### 3. Dynamic Memory Allocation (The Heap)\n",
    "    1. Heap Memory\n",
    "    2. Using malloc and free\n",
    "    3. Using new and delete\n",
    "    4. Typical Memory Management Problems\n",
    "### 4. Resource Copying Policies\n",
    "    1. Copy Semantics\n",
    "    2. Lvalues and rvalues\n",
    "    3. Move Semantics\n",
    "### 5. Smart Pointers\n",
    "    1. Resource Acquisition Is Initialization (RAII)\n",
    "    2. Smart pointers\n",
    "    3. Transferring ownership\n",
    "### 6. Project: Memory Management Chatbot"
   ]
  },
  {
   "cell_type": "code",
   "execution_count": null,
   "metadata": {},
   "outputs": [],
   "source": []
  }
 ],
 "metadata": {
  "kernelspec": {
   "display_name": "Python 3",
   "language": "python",
   "name": "python3"
  },
  "language_info": {
   "codemirror_mode": {
    "name": "ipython",
    "version": 3
   },
   "file_extension": ".py",
   "mimetype": "text/x-python",
   "name": "python",
   "nbconvert_exporter": "python",
   "pygments_lexer": "ipython3",
   "version": "3.7.6"
  }
 },
 "nbformat": 4,
 "nbformat_minor": 4
}
