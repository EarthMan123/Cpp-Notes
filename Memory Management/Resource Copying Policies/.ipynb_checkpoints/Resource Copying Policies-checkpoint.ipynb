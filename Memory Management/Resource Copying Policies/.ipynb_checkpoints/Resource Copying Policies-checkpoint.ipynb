{
 "cells": [
  {
   "cell_type": "markdown",
   "metadata": {},
   "source": [
    "# Resource Copying Policies"
   ]
  },
  {
   "cell_type": "markdown",
   "metadata": {},
   "source": [
    "## 1. Copy Semantics\n",
    "\n",
    "![1 - ND213 C03 L04 01.1 Copy Semantics HS.mp4](attachment:1 - ND213 C03 L04 01.1 Copy Semantics HS.mp4)\n",
    "\n",
    "> Refer to the workspace\n",
    "\n",
    "### The Rule of Three\n",
    "In the previous examples we have taken a first look at several copying policies:\n",
    "\n",
    "1. Default copying\n",
    "2. No copying\n",
    "3. Exclusive ownership\n",
    "4. Deep copying\n",
    "5. Shared ownership\n",
    "\n",
    "In the first example we have seen that the default implementation of the copy constructor does not consider the \"special\" needs of a class which allocates and deallocates a shared resource on the heap. The problem with implicitly using the default copy constructor or assignment operator is that programmers are not forced to consider the implications for the memory management policy of their program. In the case of the first example, this leads to a segmentation fault and thus a program crash.\n",
    "\n",
    "In order to properly manage memory allocation, deallocation and copying behavior, we have seen that there is an intricate relationship between destructor, copy constructor and copy assignment operator. To this end, the **Rule of Three** states that if a class needs to have an overloaded copy constructor, copy assignment operator, ~or~ destructor, then it must also implement the other two as well to ensure that memory is managed consistently. As we have seen, the copy constructor and copy assignment operator (which are often almost identical) control how the resource gets copied between objects while the destructor manages the resource deletion.\n",
    "\n",
    "You may have noted that in the previous code example, the class `SharedCopy` does not implement the assignment operator. This is a violation of the **Rule of Three** and thus, if we were to use something like `destination3 = source` instead of `SharedCopy destination3(source)`, the counter variable would not be properly decremented.\n",
    "\n",
    "The copying policies discussed in this chapter are the basis for a powerful concept in C++11 - smart pointers. But before we discuss these, we need to go into further detail on move semantics, which is a prerequisite you need to learn more about so you can properly understand the exclusive ownership policy as well as the Rule of Five, both of which we will discuss very soon. But before we discuss move semantics, we need to look into the concept of lvalues and rvalues in the next section.\n",
    "\n",
    "### Outro\n",
    "![2 - ND213 C03 L04 01.3 Copy Semantics HS.mp4](attachment:2 - ND213 C03 L04 01.1 Copy Semantics HS.mp4)\n"
   ]
  },
  {
   "cell_type": "markdown",
   "metadata": {},
   "source": [
    "## 2. Lvalues and Rvalues\n",
    "\n",
    "![3 - ND213 C03 L04 02.3 Lvalues And Rvalues HS.mp4](attachment:3 - ND213 C03 L04 02.3 Lvalues And Rvalues HS.mp4)\n",
    "\n",
    "> Refer to the workspace\n",
    "\n",
    "### Outro\n",
    "![4 - ND213 C03 L04 02.3 Lvalues And Rvalues HS.mp4](attachment:4 - ND213 C03 L04 02.3 Lvalues And Rvalues HS.mp4)\n"
   ]
  },
  {
   "cell_type": "markdown",
   "metadata": {},
   "source": [
    "## 3. Move Semantics\n",
    "\n",
    "![5 - ND213 C03 L04 03.1 Move Semantics HS.mp4](attachment:5 - ND213 C03 L04 03.1 Move Semantics HS.mp4)\n",
    "\n",
    "> Refer to the workspace\n",
    "\n",
    "### Outro\n",
    "![6 - ND213 C03 L04 03.1 Move Semantics HS.mp4](attachment:6 - ND213 C03 L04 03.1 Move Semantics HS.mp4)\n"
   ]
  },
  {
   "cell_type": "code",
   "execution_count": null,
   "metadata": {},
   "outputs": [],
   "source": []
  }
 ],
 "metadata": {
  "kernelspec": {
   "display_name": "Python 3",
   "language": "python",
   "name": "python3"
  },
  "language_info": {
   "codemirror_mode": {
    "name": "ipython",
    "version": 3
   },
   "file_extension": ".py",
   "mimetype": "text/x-python",
   "name": "python",
   "nbconvert_exporter": "python",
   "pygments_lexer": "ipython3",
   "version": "3.8.3"
  }
 },
 "nbformat": 4,
 "nbformat_minor": 4
}
