{
 "cells": [
  {
   "cell_type": "markdown",
   "metadata": {},
   "source": [
    "# A* Search\n",
    "\n",
    "\n",
    "**Search**( grid, initial_point, goal_point ) :\n",
    "\n",
    "1. Initialize an empty list of open nodes.\n",
    "\n",
    "2. Initialize a starting node with the following:\n",
    "\n",
    "    * x and y values given by initial_point.\n",
    "    * g = 0, where g is the cost for each move.\n",
    "    * h given by the heuristic function (a function of the current coordinates and the goal).\n",
    "3. Add the new node to the list of open nodes.\n",
    "\n",
    "4. **while** the list of open nodes is nonempty:\n",
    "\n",
    "    1. Sort the open list by f-value\n",
    "    2. Pop the optimal cell (called the current cell).\n",
    "    3. Mark the cell's coordinates in the grid as part of the path.\n",
    "    4. if the current cell is the goal cell:\n",
    "\n",
    "        * return the grid.\n",
    "    5. else, expand the search to the current node's neighbors. This includes the following steps:\n",
    "\n",
    "        * Check each neighbor cell in the grid to ensure that the cell is empty: it hasn't been closed and is not an obstacle.\n",
    "        * If the cell is empty, compute the cost (g value) and the heuristic, and add to the list of open nodes.\n",
    "        * Mark the cell as closed.\n",
    "        \n",
    "5. If you exit the while loop because the list of open nodes is empty, you have run out of new nodes to explore and haven't found a path.\n",
    "\n",
    ">>>"
   ]
  }
 ],
 "metadata": {
  "kernelspec": {
   "display_name": "Python [conda env:py3] *",
   "language": "python",
   "name": "conda-env-py3-py"
  },
  "language_info": {
   "codemirror_mode": {
    "name": "ipython",
    "version": 3
   },
   "file_extension": ".py",
   "mimetype": "text/x-python",
   "name": "python",
   "nbconvert_exporter": "python",
   "pygments_lexer": "ipython3",
   "version": "3.6.8"
  }
 },
 "nbformat": 4,
 "nbformat_minor": 4
}
