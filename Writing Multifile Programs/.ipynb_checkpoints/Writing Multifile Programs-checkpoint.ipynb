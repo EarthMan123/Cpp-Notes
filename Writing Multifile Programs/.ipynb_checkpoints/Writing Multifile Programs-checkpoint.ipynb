{
 "cells": [
  {
   "cell_type": "markdown",
   "metadata": {},
   "source": [
    "# Writing Multifile Programs\n",
    "\n"
   ]
  },
  {
   "cell_type": "markdown",
   "metadata": {},
   "source": [
    "## 1. Header Files\n",
    "\n",
    "Header files, or `.h` files, allow related function, method, and class declarations to be collected in one place. The corresponding definitions can then be placed in `.cpp` files. **The compiler considers a header declaration a \"promise\" that the definition will be found later in the code,** so if the compiler reaches a function that hasn't been defined yet, it can continue on compiling until the definition is found. This allows functions to be defined (and declared) in arbitrary order.\n",
    "\n",
    "* Finally, there is a preprocessor directive:\n",
    "```c++\n",
    "#ifndef HEADER_EXAMPLE_H\n",
    "#define HEADER_EXAMPLE_H\n",
    "```\n",
    "at the top of the header, along with an `#endif` at the end. This is called an \"include guard\". Since the header will be included into another file, and `#include` just pastes contents into a file, the include guard prevents the same file from being pasted multiple times into another file. This might happen if multiple files include the same header, and then are all included into the same main.cpp, for example. The `ifndef` checks if `HEADER_EXAMPLE_H` has not been defined in the file already. If it has not been defined yet, then it is defined with `#define HEADER_EXAMPLE_H`, and the rest of the header is used. If `HEADER_EXAMPLE_H` has already been defined, then the preprocessor does not enter the `ifndef` block. Note: There are other ways to do this. Another common way is to use an `#pragma once` preprocessor directive, but we won't cover that in detail here. See [this Wikipedia article](https://en.wikipedia.org/wiki/Include_guard) for examples."
   ]
  },
  {
   "cell_type": "markdown",
   "metadata": {},
   "source": [
    "## 2. Pointers\n",
    "\n",
    "The overloading of the ampersand symbol `&` and the `*` symbol probably contribute to much of the confusion around pointers.\n",
    "\n",
    "> **The symbols `&` and `*` have a different meaning, depending on which side of an equation they appear.**\n",
    "\n",
    "This is extremely important to remember. For the `&` symbol, if it appears on the left side of an equation (e.g. when declaring a variable), it means that the variable is declared as a reference. If the `&` appears on the right side of an equation, or before a previously defined variable, it is used to return a memory address, as in the example above."
   ]
  },
  {
   "cell_type": "markdown",
   "metadata": {},
   "source": [
    "## 3. References vs Pointers\n",
    "\n",
    "### References\n",
    "* References must be initialized when they are declared. This means that a reference will always point to data that was intentionally assigned to it.\n",
    "* References can not be null. This means that a reference should point to meaningful data in the program.\n",
    "* When used in a function for pass-by-reference, the reference can be used just as a variable of the same type would be.\n",
    "\n",
    "### Pointers\n",
    "* Pointers can be declared without being initialized, which is dangerous. If this happens mistakenly, the pointer could be pointing to an arbitrary address in memory, and the data associated with that address could be meaningless, leading to undefined behavior and difficult-to-resolve bugs.\n",
    "* Pointers can be null. In fact, if a pointer is not initialized immediately, it is often best practice to initialize to `nullptr`, a special type which indicates that the pointer is null.\n",
    "* When used in a function for pass-by-reference, a pointer must be dereferenced in order to access the underlying object.\n",
    "\n",
    "References are generally easier and safer than pointers. As a decent rule of thumb, references should be used in place of pointers when possible.\n",
    "\n",
    "However, there are times when it is not possible to use references. One example is object initialization. You might like one object to store a reference to another object. However, if the other object is not yet available when the first object is created, then the first object will need to use a pointer, not a reference, since a reference cannot be null. The reference could only be initialized once the other object is created."
   ]
  },
  {
   "cell_type": "markdown",
   "metadata": {},
   "source": [
    "## 4. Maps\n",
    "\n",
    "### Dictionary Example in Code\n",
    "In the cell below, we have created a hash table (`unordered_map`) to store the data from the example above. To create an `unordered_map` in C++, you must include the `<unordered_map>` header, and the sytnax for declaring an `unordered_map` is as follows:\n",
    "```c++\n",
    "unordered_map <key_type, value_type> variable_name;\n",
    "```\n",
    "In the code below, we check if the key is in the `unordered_map` using the `.find()` method. If the key does not exist in the map, then `.find()` returns an `unordered_map::end()` type. Otherwise, `.find()` returns a C++ iterator, which is a pointer that points to the beginning of the iterable key-value pair.\n",
    "\n",
    "We haven't covered iterators in this course, and you won't need them for this project, but they are a lot like pointers that can \"iterate\" forward or backward through a range.\n",
    "\n",
    "```c++\n",
    "#include <iostream>\n",
    "#include <vector>\n",
    "#include <unordered_map>\n",
    "#include <string>\n",
    "using std::vector;\n",
    "using std::cout;\n",
    "using std::unordered_map;\n",
    "using std::string;\n",
    "\n",
    "\n",
    "int main() {\n",
    "    // Create strings to use in the hash table.\n",
    "    string key = \"word\";\n",
    "    string def_1 = \"a unit of language, consisting of one or more spoken sounds or their written representation, that functions as a principal carrier of meaning\";\n",
    "    string def_2 = \"speech or talk: to express one's emotion in words\";\n",
    "    string def_3 = \"a short talk or conversation: 'Marston, I'd like a word with you.'\";\n",
    "    string def_4 = \"an expression or utterance: a word of warning\";\n",
    "    unordered_map <string, vector<string>> my_dictionary;\n",
    "\n",
    "    // Check if key is in the hash table.\n",
    "    if (my_dictionary.find(key) == my_dictionary.end()) {\n",
    "        cout << \"The key 'word' is not in the dictionary.\" << \"\\n\";\n",
    "        cout << \"Inserting a key-value pair into the dictionary.\" << \"\\n\\n\";\n",
    "        // Set the value for the key.\n",
    "        my_dictionary[key] = vector<string> {def_1, def_2, def_3, def_4};\n",
    "    }\n",
    "\n",
    "    // The key should now be in the hash table. You can access the\n",
    "    // value corresponding to the key with square brackets [].\n",
    "    // Here, the value my_dictionary[key] is a vector of strings.\n",
    "    // We iterate over the vector and print the strings.\n",
    "    cout << key << \": \\n\";\n",
    "    auto definitions = my_dictionary[key];\n",
    "    for (string definition : definitions) {\n",
    "        cout << definition << \"\\n\";\n",
    "    }\n",
    "}\n",
    "```\n",
    "\n",
    "### Your Turn!\n",
    "The following is data relating some international country phone codes to their corresponding country name:\n",
    "```c++\n",
    "{{972, \"Israel\"}, {93, \"Afghanistan\"}, {355, \"Albania\"}, {213, \"Algeria\"}, {376, \"Andorra\"}, {244, \"Angola\"}, {54, \"Argentina\"}, {374, \"Armenia\"}, {297, \"Aruba\"}, {61, \"Australia\"}, {43, \"Austria\"}, {994, \"Azerbaijan\"}, {973, \"Bahrain\"}, {880, \"Bangladesh\"}, {375, \"Belarus\"}, {32, \"Belgium\"}, {501, \"Belize\"}, {229, \"Benin\"}, {975, \"Bhutan\"}, {387, \"Bosnia and Herzegovina\"}, {267, \"Botswana\"}, {55, \"Brazil\"}, {246, \"British Indian Ocean Territory\"}, {359, \"Bulgaria\"}, {226, \"Burkina Faso\"}, {257, \"Burundi\"}, {855, \"Cambodia\"}, {237, \"Cameroon\"}, {1, \"Canada\"}, {238, \"Cape Verde\"}, {236, \"Central African Republic\"}, {235, \"Chad\"}, {56, \"Chile\"}, {86, \"China\"}, {61, \"Christmas Island\"}, {57, \"Colombia\"}, {269, \"Comoros\"}, {242, \"Congo\"}, {682, \"Cook Islands\"}, {506, \"Costa Rica\"}, {385, \"Croatia\"}, {53, \"Cuba\"}, {537, \"Cyprus\"}, {420, \"Czech Republic\"}, {45, \"Denmark\"}, {253, \"Djibouti\"}, {593, \"Ecuador\"}, {20, \"Egypt\"}, {503, \"El Salvador\"}, {240, \"Equatorial Guinea\"}, {291, \"Eritrea\"}, {372, \"Estonia\"}, {251, \"Ethiopia\"}, {298, \"Faroe Islands\"}, {679, \"Fiji\"}, {358, \"Finland\"}, {33, \"France\"}, {594, \"French Guiana\"}, {689, \"French Polynesia\"}, {241, \"Gabon\"}, {220, \"Gambia\"}, {995, \"Georgia\"}, {49, \"Germany\"}, {233, \"Ghana\"}, {350, \"Gibraltar\"}, {30, \"Greece\"}, {299, \"Greenland\"}, {590, \"Guadeloupe\"}, {502, \"Guatemala\"}, {224, \"Guinea\"}, {245, \"Guinea-Bissau\"}, {595, \"Guyana\"}, {509, \"Haiti\"}, {504, \"Honduras\"}, {36, \"Hungary\"}, {354, \"Iceland\"}, {91, \"India\"}, {62, \"Indonesia\"}, {964, \"Iraq\"}, {353, \"Ireland\"}, {972, \"Israel\"}, {39, \"Italy\"}, {81, \"Japan\"}, {962, \"Jordan\"}, {254, \"Kenya\"}, {686, \"Kiribati\"}, {965, \"Kuwait\"}, {996, \"Kyrgyzstan\"}, {371, \"Latvia\"}, {961, \"Lebanon\"}, {266, \"Lesotho\"}, {231, \"Liberia\"}, {423, \"Liechtenstein\"}, {370, \"Lithuania\"}, {352, \"Luxembourg\"}, {261, \"Madagascar\"}, {265, \"Malawi\"}, {60, \"Malaysia\"}, {223, \"Mali\"}, {356, \"Malta\"}, {692, \"Marshall Islands\"}, {596, \"Martinique\"}, {222, \"Mauritania\"}, {230, \"Mauritius\"}, {262, \"Mayotte\"}, {52, \"Mexico\"}, {377, \"Monaco\"}, {976, \"Mongolia\"}, {382, \"Montenegro\"}, {212, \"Morocco\"}, {95, \"Myanmar\"}, {264, \"Namibia\"}, {674, \"Nauru\"}, {977, \"Nepal\"}, {31, \"Netherlands\"}, {599, \"Netherlands Antilles\"}, {687, \"New Caledonia\"}, {64, \"New Zealand\"}, {505, \"Nicaragua\"}, {227, \"Niger\"}, {234, \"Nigeria\"}, {683, \"Niue\"}, {672, \"Norfolk Island\"}, {47, \"Norway\"}, {968, \"Oman\"}, {92, \"Pakistan\"}, {680, \"Palau\"}, {507, \"Panama\"}, {675, \"Papua New Guinea\"}, {595, \"Paraguay\"}, {51, \"Peru\"}, {63, \"Philippines\"}, {48, \"Poland\"}, {351, \"Portugal\"}, {974, \"Qatar\"}, {40, \"Romania\"}, {250, \"Rwanda\"}, {685, \"Samoa\"}, {378, \"San Marino\"}, {966, \"Saudi Arabia\"}, {221, \"Senegal\"}, {381, \"Serbia\"}, {248, \"Seychelles\"}, {232, \"Sierra Leone\"}, {65, \"Singapore\"}, {421, \"Slovakia\"}, {386, \"Slovenia\"}, {677, \"Solomon Islands\"}, {27, \"South Africa\"}, {500, \"South Georgia and the South Sandwich Islands\"}, {34, \"Spain\"}, {94, \"Sri Lanka\"}, {249, \"Sudan\"}, {597, \"Suriname\"}, {268, \"Swaziland\"}, {46, \"Sweden\"}, {41, \"Switzerland\"}, {992, \"Tajikistan\"}, {66, \"Thailand\"}, {228, \"Togo\"}, {690, \"Tokelau\"}, {676, \"Tonga\"}, {216, \"Tunisia\"}, {90, \"Turkey\"}, {993, \"Turkmenistan\"}, {688, \"Tuvalu\"}, {256, \"Uganda\"}, {380, \"Ukraine\"}, {971, \"United Arab Emirates\"}, {44, \"United Kingdom\"}, {1, \"United States\"}, {598, \"Uruguay\"}, {998, \"Uzbekistan\"}, {678, \"Vanuatu\"}, {681, \"Wallis and Futuna\"}, {967, \"Yemen\"}, {260, \"Zambia\"}, {263, \"Zimbabwe\"}, {591, \"Bolivia, Plurinational State of\"}, {673, \"Brunei Darussalam\"}, {61, \"Cocos (Keeling) Islands\"}, {243, \"Congo, The Democratic Republic of the\"}, {225, \"Cote dIvoire\"}, {500, \"Falkland Islands (Malvinas)\"}, {44, \"Guernsey\"}, {379, \"Holy See (Vatican City State)\"}, {852, \"Hong Kong\"}, {98, \"Iran, Islamic Republic of\"}, {44, \"Isle of Man\"}, {44, \"Jersey\"}, {850, \"Korea, Democratic People's Republic of\"}, {82, \"Korea, Republic of\"}, {856, \"Lao People's Democratic Republic\"}, {218, \"Libyan Arab Jamahiriya\"}, {853, \"Macao\"}, {389, \"Macedonia, The Former Yugoslav Republic of\"}, {691, \"Micronesia, Federated States of\"}, {373, \"Moldova, Republic of\"}, {258, \"Mozambique\"}, {970, \"Palestinian Territory, Occupied\"}, {872, \"Pitcairn\"}, {262, \"Réunion\"}, {7, \"Russia\"}, {590, \"Saint Barthélemy\"}, {290, \"Saint Helena, Ascension and Tristan Da Cunha\"}, {590, \"Saint Martin\"}, {508, \"Saint Pierre and Miquelon\"}, {239, \"Sao Tome and Principe\"}, {252, \"Somalia\"}, {47, \"Svalbard and Jan Mayen\"}, {963, \"Syrian Arab Republic\"}, {886, \"Taiwan, Province of China\"}, {255, \"Tanzania, United Republic of\"}, {670, \"Timor-Leste\"}, {58, \"Venezuela, Bolivarian Republic of\"}, {84, \"Viet Nam\"}}\n",
    "```\n",
    "\n",
    "You can create an unordered_map with the data above just by pasting it into your program and assigning it to the appropriate variable. For example, an unordered_map can be declared and initialized as follows:"
   ]
  },
  {
   "cell_type": "code",
   "execution_count": null,
   "metadata": {},
   "outputs": [],
   "source": []
  }
 ],
 "metadata": {
  "kernelspec": {
   "display_name": "Python [conda env:py3] *",
   "language": "python",
   "name": "conda-env-py3-py"
  },
  "language_info": {
   "codemirror_mode": {
    "name": "ipython",
    "version": 3
   },
   "file_extension": ".py",
   "mimetype": "text/x-python",
   "name": "python",
   "nbconvert_exporter": "python",
   "pygments_lexer": "ipython3",
   "version": "3.6.8"
  }
 },
 "nbformat": 4,
 "nbformat_minor": 4
}
