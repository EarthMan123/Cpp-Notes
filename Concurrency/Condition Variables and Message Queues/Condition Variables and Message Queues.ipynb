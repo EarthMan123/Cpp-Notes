{
 "cells": [
  {
   "cell_type": "markdown",
   "metadata": {},
   "source": [
    "# Condition Variables and Message Queues"
   ]
  },
  {
   "cell_type": "markdown",
   "metadata": {},
   "source": [
    "## 1. Introduction\n",
    "\n",
    "### Intro\n",
    "\n",
    "![1 - ND213 C04 L04 C4.1 Atom1.mp4](attachment:1 - ND213 C04 L04 C4.1 Atom1.mp4)\n"
   ]
  },
  {
   "cell_type": "markdown",
   "metadata": {},
   "source": [
    "## 2. The Monitor Object Pattern\n",
    "\n",
    "![2 - ND213 C04 L04 C4.2 Atom 1.mp4](attachment:2 - ND213 C04 L04 C4.2 Atom 1.mp4)\n",
    "\n",
    "### Workspace\n",
    "\n",
    "> Refer to the workspace\n",
    "\n",
    "### Outro\n",
    "\n",
    "![3 - ND213 C04 L04 C4.2 Atom 5.mp4](attachment:3 - ND213 C04 L04 C4.2 Atom 5.mp4)"
   ]
  },
  {
   "cell_type": "markdown",
   "metadata": {},
   "source": [
    "## 3. Building a Concurrent Message Queue\n",
    "\n",
    "![4 - ND213 C04 L04 C4.3 Atom 1.mp4](attachment:4 - ND213 C04 L04 C4.3 Atom 1.mp4)\n",
    "\n",
    "### Workspace\n",
    "\n",
    "> Refer to the workspace\n",
    "\n",
    "### Outro\n",
    "\n",
    "![5 - ND213 C04 L04 C4.3 Atom 8.mp4](attachment:5 - ND213 C04 L04 C4.3 Atom 8.mp4)"
   ]
  },
  {
   "cell_type": "code",
   "execution_count": null,
   "metadata": {},
   "outputs": [],
   "source": []
  }
 ],
 "metadata": {
  "kernelspec": {
   "display_name": "Python 3",
   "language": "python",
   "name": "python3"
  },
  "language_info": {
   "codemirror_mode": {
    "name": "ipython",
    "version": 3
   },
   "file_extension": ".py",
   "mimetype": "text/x-python",
   "name": "python",
   "nbconvert_exporter": "python",
   "pygments_lexer": "ipython3",
   "version": "3.8.3"
  }
 },
 "nbformat": 4,
 "nbformat_minor": 4
}
