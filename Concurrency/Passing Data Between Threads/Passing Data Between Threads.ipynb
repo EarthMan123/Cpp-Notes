{
 "cells": [
  {
   "cell_type": "markdown",
   "metadata": {},
   "source": [
    "# Passing Data Between Threads"
   ]
  },
  {
   "cell_type": "markdown",
   "metadata": {},
   "source": [
    "## 1. Introduction\n",
    "\n",
    "![1 - ND213 C04 L02 C2.1-Atom1.mp4](attachment:1 - ND213 C04 L02 C2.1-Atom1.mp4)\n"
   ]
  },
  {
   "cell_type": "markdown",
   "metadata": {},
   "source": [
    "## 2. Promises and Futures\n",
    "\n",
    "![2 - ND213 C04 L02 C2.2 Atom 1.mp4](attachment:2 - ND213 C04 L02 C2.2 Atom 1.mp4)\n",
    "\n",
    "### Workspace\n",
    "\n",
    "> Refer to the workspace\n",
    "\n",
    "### Outro\n",
    "\n",
    "![3 - ND213 C04 L02 C2.2 Atom 6.mp4](attachment:3 - ND213 C04 L02 C2.2 Atom 6.mp4)\n"
   ]
  },
  {
   "cell_type": "markdown",
   "metadata": {},
   "source": [
    "## 3. Threads vs. Tasks\n",
    "\n",
    "![4 - ND213 C04 L02 C2.3 Atom 1.mp4](attachment:4 - ND213 C04 L02 C2.3 Atom 1.mp4)\n",
    "\n",
    "### Workspace\n",
    "\n",
    "> Refer to the workspace\n"
   ]
  },
  {
   "cell_type": "markdown",
   "metadata": {},
   "source": [
    "## 4. Threads vs. Tasks Quiz\n",
    "\n",
    "The concurrency abstraction level of ***threads*** is low.\n",
    "\n",
    "The concurrency abstraction level of ***tasks*** is high.\n",
    "\n",
    "Resource usage can be described as heavy-weight for ***threads***.\n",
    "\n",
    "Resource usage can be described as light-weight for ***tasks***.\n",
    "\n",
    "Primary use-cases for ***threads*** are applications where latency needs to be improved.\n",
    "\n",
    "Primary use-cases for ***tasks*** are scenarios where throughput needs to be high.\n",
    "\n",
    "## Outro\n",
    "\n",
    "![5 - ND213 C04 L02 C2.3 Atom 6.mp4](attachment:5 - ND213 C04 L02 C2.3 Atom 6.mp4)"
   ]
  },
  {
   "cell_type": "markdown",
   "metadata": {},
   "source": [
    "## 5. Avoiding Data Races\n",
    "\n",
    "![6 - ND213 C04 L02 C2.4 Atom 1.mp4](attachment:6 - ND213 C04 L02 C2.4 Atom 1.mp4)\n",
    "\n",
    "### Workspace\n",
    "\n",
    "> Refer to the workspace\n",
    "\n",
    "### Outro\n",
    "\n",
    "![7 - ND213 C04 L02 C2.4 Atom 7.mp4](attachment:7 - ND213 C04 L02 C2.4 Atom 7.mp4)\n"
   ]
  },
  {
   "cell_type": "markdown",
   "metadata": {},
   "source": [
    "# 6. Lesson 2 Exercise\n",
    "\n",
    "## Overview\n",
    "\n",
    "![8 - ND213 C04 L02 C2-5-A1.mp4](attachment:8 - ND213 C04 L02 C2-5-A1.mp4)\n",
    "\n",
    "## Code Discussion\n",
    "\n",
    "![9 - ND213 C04 L02 C2-5-A2.mp4](attachment:9 - ND213 C04 L02 C2-5-A2.mp4)\n",
    "\n",
    "## Project Tasks\n",
    "* **Task L2.1** : In method Vehicle::drive(), start up a task using std::async which takes a reference to the method Intersection::addVehicleToQueue, the object _currDestination and a shared pointer to this using the get_shared_this() function. Then, wait for the data to be available before proceeding to slow down.\n",
    "\n",
    "* **Task L2.2** : In method Intersection::addVehicleToQueue(), add the new vehicle to the waiting line by creating a promise, a corresponding future and then adding both to _waitingVehicles. Then wait until the vehicle has been granted entry.\n",
    "\n",
    "* **Task L2.3** : In method WaitingVehicles::permitEntryToFirstInQueue(), get the entries from the front of _promises and _vehicles. Then, fulfill promise and send signal back that permission to enter has been granted. Finally, remove the front elements from both queues.\n",
    "\n",
    "**Note**: To compile and run this code, you can use the same steps as the previous lesson exercise. You will need to use the virtual desktop to see the output."
   ]
  },
  {
   "cell_type": "code",
   "execution_count": null,
   "metadata": {},
   "outputs": [],
   "source": []
  }
 ],
 "metadata": {
  "kernelspec": {
   "display_name": "Python 3",
   "language": "python",
   "name": "python3"
  },
  "language_info": {
   "codemirror_mode": {
    "name": "ipython",
    "version": 3
   },
   "file_extension": ".py",
   "mimetype": "text/x-python",
   "name": "python",
   "nbconvert_exporter": "python",
   "pygments_lexer": "ipython3",
   "version": "3.8.3"
  }
 },
 "nbformat": 4,
 "nbformat_minor": 4
}
