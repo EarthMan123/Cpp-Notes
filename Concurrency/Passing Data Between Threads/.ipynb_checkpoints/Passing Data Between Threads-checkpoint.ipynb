{
 "cells": [
  {
   "cell_type": "markdown",
   "metadata": {},
   "source": [
    "# Passing Data Between Threads"
   ]
  },
  {
   "cell_type": "markdown",
   "metadata": {},
   "source": [
    "## 1. Introduction\n",
    "\n",
    "![1 - ND213 C04 L02 C2.1-Atom1.mp4](attachment:1 - ND213 C04 L02 C2.1-Atom1.mp4)\n"
   ]
  },
  {
   "cell_type": "markdown",
   "metadata": {},
   "source": [
    "## 2. Promises and Futures\n",
    "\n",
    "![2 - ND213 C04 L02 C2.2 Atom 1.mp4](attachment:2 - ND213 C04 L02 C2.2 Atom 1.mp4)\n",
    "\n",
    "### Workspace\n",
    "\n",
    "> Refer to the workspace\n",
    "\n",
    "### Outro\n",
    "\n",
    "![3 - ND213 C04 L02 C2.2 Atom 6.mp4](attachment:3 - ND213 C04 L02 C2.2 Atom 6.mp4)\n"
   ]
  }
 ],
 "metadata": {
  "kernelspec": {
   "display_name": "Python 3",
   "language": "python",
   "name": "python3"
  },
  "language_info": {
   "codemirror_mode": {
    "name": "ipython",
    "version": 3
   },
   "file_extension": ".py",
   "mimetype": "text/x-python",
   "name": "python",
   "nbconvert_exporter": "python",
   "pygments_lexer": "ipython3",
   "version": "3.8.3"
  }
 },
 "nbformat": 4,
 "nbformat_minor": 4
}
