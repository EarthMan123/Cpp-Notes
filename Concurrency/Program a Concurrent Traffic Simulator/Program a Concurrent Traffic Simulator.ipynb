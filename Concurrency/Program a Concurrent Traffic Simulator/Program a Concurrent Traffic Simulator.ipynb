{
 "cells": [
  {
   "cell_type": "markdown",
   "metadata": {},
   "source": [
    "# Program a Concurrent Traffic Simulator"
   ]
  },
  {
   "cell_type": "markdown",
   "metadata": {},
   "source": [
    "## 1. Final Project Intro\n",
    "\n",
    "### Overview\n",
    "\n",
    "![1 - ND213 C04 L05 C5.1 Atom 1.mp4](attachment:1 - ND213 C04 L05 C5.1 Atom 1.mp4)\n"
   ]
  },
  {
   "cell_type": "markdown",
   "metadata": {},
   "source": [
    "## 2. Final Project Tasks\n",
    "\n",
    "![2 - ND213 C04 L05 C5-1-A2-SC.mp4](attachment:2 - ND213 C04 L05 C5-1-A2-SC.mp4)\n",
    "\n",
    "### Task List\n",
    "* **Task FP.1** : Define a class `TrafficLight` which is a child class of `TrafficObject`. The class shall have the public methods `void waitForGreen()` and `void simulate()` as well as `TrafficLightPhase getCurrentPhase()`, where `TrafficLightPhase` is an enum that can be either `red` or `green`. Also, add the private method `void cycleThroughPhases()`. Furthermore, there shall be the private member `_currentPhase` which can take `red` or `green` as its value.\n",
    "\n",
    "* **Task FP.2** : Implement the function with an infinite loop that measures the time between two loop cycles and toggles the current phase of the traffic light between red and green and sends an update method to the message queue using move semantics. The cycle duration should be a random value between 4 and 6 seconds. Also, the while-loop should use `std::this_thread::sleep_for` to wait 1ms between two cycles. Finally, the private method `cycleThroughPhases` should be started in a thread when the public method `simulate` is called. To do this, use the thread queue in the base class.\n",
    "\n",
    "* **Task FP.3** : Define a class `MessageQueue` which has the public methods send and receive. Send should take an rvalue reference of type TrafficLightPhase whereas receive should return this type. Also, the class should define an `std::dequeue` called `_queue`, which stores objects of type `TrafficLightPhase`. Finally, there should be an `std::condition_variable` as well as an `std::mutex` as private members.\n",
    "\n",
    "* **Task FP.4** : Implement the method `Send`, which should use the mechanisms `std::lock_guard<std::mutex>` as well as `_condition.notify_one()` to add a new message to the queue and afterwards send a notification. Also, in class `TrafficLight`, create a private member of type `MessageQueue` for messages of type `TrafficLightPhase` and use it within the infinite loop to push each new `TrafficLightPhase` into it by calling send in conjunction with move semantics.\n",
    "\n",
    "* **Task FP.5** : The method receive should use `std::unique_lock<std::mutex>` and `_condition.wait()` to wait for and receive new messages and pull them from the queue using move semantics. The received object should then be returned by the receive function. Then, add the implementation of the method `waitForGreen`, in which an infinite while-loop runs and repeatedly calls the `receive` function on the message queue. Once it receives `TrafficLightPhase::green`, the method returns.\n",
    "\n",
    "* **Task FP.6** : In class Intersection, add a private member `_trafficLight` of type `TrafficLight`. In method `Intersection::simulate()`, start the simulation of `_trafficLight`. Then, in method `Intersection::addVehicleToQueue`, use the methods `TrafficLight::getCurrentPhase` and `TrafficLight::waitForGreen` to block the execution until the traffic light turns green."
   ]
  },
  {
   "cell_type": "markdown",
   "metadata": {},
   "source": [
    "## 3. Final Project Code Overview\n",
    "\n",
    "![3 - ND213 C04 L05 C5-1-A3-SC.mp4](attachment:3 - ND213 C04 L05 C5-1-A3-SC.mp4)\n",
    "\n",
    "### Task List\n",
    "..."
   ]
  },
  {
   "cell_type": "markdown",
   "metadata": {},
   "source": [
    "## 4. Project: Final Project Workspace\n",
    "\n",
    "Below is the workspace you can use to complete your project. **Note that the task list is included in the README for the project**.\n",
    "\n",
    "### Checking the Rubric\n",
    "If your project works correctly, carefully look at the project rubric. If you feel like all the criteria from the rubric are met, you are ready to submit!\n",
    "\n",
    "### Submitting the Project\n",
    "You can submit your project using the \"SUBMIT PROJECT\" button in the terminal below.\n",
    "\n",
    "This project can only be submitted through this workspace. This is done to ensure that you are able to test your code in an environment similar to what reviewers will use.\n",
    "\n",
    "If you have developed your project locally, you can upload the project directory to the workspace for submission. Similarly, if you have your code in Github, you can clone your project into the workspace for submission.\n",
    "\n",
    "### Workspace\n",
    "\n",
    "\n",
    "> Refer to the workspace"
   ]
  },
  {
   "cell_type": "markdown",
   "metadata": {},
   "source": []
  }
 ],
 "metadata": {
  "kernelspec": {
   "display_name": "Python 3",
   "language": "python",
   "name": "python3"
  },
  "language_info": {
   "codemirror_mode": {
    "name": "ipython",
    "version": 3
   },
   "file_extension": ".py",
   "mimetype": "text/x-python",
   "name": "python",
   "nbconvert_exporter": "python",
   "pygments_lexer": "ipython3",
   "version": "3.8.3"
  }
 },
 "nbformat": 4,
 "nbformat_minor": 4
}
