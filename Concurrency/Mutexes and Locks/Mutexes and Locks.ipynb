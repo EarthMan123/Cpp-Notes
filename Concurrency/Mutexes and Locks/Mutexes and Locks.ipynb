{
 "cells": [
  {
   "cell_type": "markdown",
   "metadata": {},
   "source": [
    "# Mutexes and Locks"
   ]
  },
  {
   "cell_type": "markdown",
   "metadata": {},
   "source": [
    "## 1. Introduction\n",
    "\n",
    "![1 - ND213 C04 L03 C3.1-Atom 1.mp4](attachment:1 - ND213 C04 L03 C3.1-Atom 1.mp4)"
   ]
  },
  {
   "cell_type": "markdown",
   "metadata": {},
   "source": [
    "## 2. Using a Mutex to Protect Shared Data\n",
    "\n",
    "![2 - ND213 C04 L03 C3.2-Atom 1.mp4](attachment:2 - ND213 C04 L03 C3.2-Atom 1.mp4)\n",
    "\n",
    "### Workspace\n",
    "\n",
    "> Refer to the workspace\n",
    "\n",
    "### Deadlock 1 Exercise Solution\n",
    "\n",
    "![3 - ND213 C04 L03 C3-2-A5a.mp4](attachment:3 - ND213 C04 L03 C3-2-A5a.mp4)\n",
    "\n",
    "### Outro\n",
    "\n",
    "![4 - ND213 C04 L03 C3.2-Atom 7.mp4](attachment:4 - ND213 C04 L03 C3.2-Atom 7.mp4)\n"
   ]
  },
  {
   "cell_type": "markdown",
   "metadata": {},
   "source": [
    "## 3. Using Locks to Avoid Deadlocks\n",
    "\n",
    "![5 - ND213 C04 L03 C3.3-Atom 1.mp4](attachment:5 - ND213 C04 L03 C3.3-Atom 1.mp4)\n",
    "\n",
    "### Workspace\n",
    "\n",
    "> Refer to the workspace\n",
    "\n",
    "### Outro\n",
    "\n",
    "![6 - ND213 C04 L03 C3.3-Atom 5.mp4](attachment:6 - ND213 C04 L03 C3.3-Atom 5.mp4)\n"
   ]
  },
  {
   "cell_type": "markdown",
   "metadata": {},
   "source": [
    "## 4. Lesson 3 Exercise\n",
    "\n",
    "### Overview\n",
    "\n",
    "![7 - ND213 C04 L03 C3.4-Atom 1.mp4](attachment:7 - ND213 C04 L03 C3.4-Atom 1.mp4)\n",
    "\n",
    "### Details\n",
    "\n",
    "![8 - ND213 C04 L03 C3-4-A2.mp4](attachment:8 - ND213 C04 L03 C3-4-A2.mp4)\n",
    "\n",
    "### Project Tasks\n",
    "* **Task L3.1** : In class WaitingVehicles, safeguard all accesses to the private members _vehicles and _promises with an appropriate locking mechanism, that will not cause a deadlock situation where access to the resources is accidentally blocked.\n",
    "\n",
    "* **Task L2.2** : Add a static mutex to the base class TrafficObject (called _mtxCout) and properly instantiate it in the source file. This mutex will be used in the next task to protect standard-out.\n",
    "\n",
    "* **Task L2.3** : In method Intersection::addVehicleToQueue and in Vehicle::drive() ensure that the text output locks the console as a shared resource. Use the mutex _mtxCout you have added to the base class TrafficObject in the previous task. Make sure that in between the two calls to std::cout at the beginning and at the end of addVehicleToQueue the lock is not held.\n",
    "\n",
    "### Workspace\n",
    "\n",
    "> Refer to the workspace\n"
   ]
  },
  {
   "cell_type": "code",
   "execution_count": null,
   "metadata": {},
   "outputs": [],
   "source": []
  }
 ],
 "metadata": {
  "kernelspec": {
   "display_name": "Python 3",
   "language": "python",
   "name": "python3"
  },
  "language_info": {
   "codemirror_mode": {
    "name": "ipython",
    "version": 3
   },
   "file_extension": ".py",
   "mimetype": "text/x-python",
   "name": "python",
   "nbconvert_exporter": "python",
   "pygments_lexer": "ipython3",
   "version": "3.8.3"
  }
 },
 "nbformat": 4,
 "nbformat_minor": 4
}
